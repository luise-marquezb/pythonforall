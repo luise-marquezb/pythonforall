{
  "cells": [
    {
      "cell_type": "markdown",
      "metadata": {
        "id": "nFMS_VQ_dYBL"
      },
      "source": [
        "## 1 Repetitivas I FOR"
      ]
    },
    {
      "cell_type": "markdown",
      "metadata": {
        "id": "b180a8da-b547-4fa9-aada-58cbe64b973b"
      },
      "source": [
        "### 1.1.- Bucle en Lista - Loop list"
      ]
    },
    {
      "cell_type": "code",
      "execution_count": null,
      "metadata": {
        "colab": {
          "base_uri": "https://localhost:8080/"
        },
        "id": "6f866ef8-5d29-4e7d-8ac1-8027d20052ac",
        "outputId": "73fc8843-0ea7-47e0-e698-c37b1a31b6f3"
      },
      "outputs": [
        {
          "name": "stdout",
          "output_type": "stream",
          "text": [
            "Este es un elemento de la lista 1\n",
            "Este es un elemento de la lista 2\n",
            "Este es un elemento de la lista 3\n",
            "Este es un elemento de la lista 4\n",
            "Este es un elemento de la lista 5\n"
          ]
        }
      ],
      "source": [
        "elementList = [1,2,3,4,5]\n",
        "\n",
        "for item in elementList:\n",
        "    print(\"Este es un elemento de la lista\",item)"
      ]
    },
    {
      "cell_type": "markdown",
      "metadata": {
        "id": "32cda807-cdfd-4c84-b9f9-0768640cd8b7"
      },
      "source": [
        "### 1.2.- Bucle con rango - Loop with range\n",
        "\n",
        "range(1,10,3) comienza en 1 hasta antes del 10 e ira aumentado de 3 en 3."
      ]
    },
    {
      "cell_type": "code",
      "execution_count": null,
      "metadata": {
        "colab": {
          "base_uri": "https://localhost:8080/"
        },
        "id": "4706b1c0-7e16-4c15-b3cd-7c513f4658d8",
        "outputId": "f0582b43-40c9-4451-dfc7-e46977dd43ea"
      },
      "outputs": [
        {
          "name": "stdout",
          "output_type": "stream",
          "text": [
            "0\n",
            "1\n",
            "2\n",
            "3\n",
            "4\n",
            "5\n",
            "6\n",
            "7\n",
            "8\n",
            "9\n"
          ]
        }
      ],
      "source": [
        "for element in range(10):\n",
        "    print(element)"
      ]
    },
    {
      "cell_type": "code",
      "execution_count": null,
      "metadata": {
        "colab": {
          "base_uri": "https://localhost:8080/"
        },
        "id": "BE3fN-3k1krz",
        "outputId": "f9b37191-18d1-4fdb-f39e-665a3bfe7185"
      },
      "outputs": [
        {
          "name": "stdout",
          "output_type": "stream",
          "text": [
            "5\n",
            "6\n",
            "7\n",
            "8\n",
            "9\n"
          ]
        }
      ],
      "source": [
        "for item in range(5,10):\n",
        "    print(item)"
      ]
    },
    {
      "cell_type": "code",
      "execution_count": null,
      "metadata": {
        "colab": {
          "base_uri": "https://localhost:8080/"
        },
        "id": "HOctecMW1xok",
        "outputId": "8701b7b8-bf9a-4377-bfd6-67800ea6fca7"
      },
      "outputs": [
        {
          "name": "stdout",
          "output_type": "stream",
          "text": [
            "1\n",
            "11\n",
            "21\n",
            "31\n",
            "41\n",
            "51\n",
            "61\n",
            "71\n",
            "81\n",
            "91\n"
          ]
        }
      ],
      "source": [
        "for element in range(1,100,10):  # (inicio, hasta antes de , de cuanto en cuanto se aumenta)\n",
        "    print(element)"
      ]
    },
    {
      "cell_type": "markdown",
      "metadata": {
        "id": "9d04b276-7944-4f58-85d4-10bab4600bad"
      },
      "source": [
        "### 1.3.- Bucle lineal - Loop linear\n",
        "\n",
        "En este caso la lista oldElementList es multiplicada cada valor por 2 y se crea el resultado en la nueva lista elementList."
      ]
    },
    {
      "cell_type": "code",
      "execution_count": null,
      "metadata": {
        "colab": {
          "base_uri": "https://localhost:8080/"
        },
        "id": "74b709d4-dcae-42ed-a01a-717ada002202",
        "outputId": "0b321d6e-3924-4f56-dedb-a505bb2ada42"
      },
      "outputs": [
        {
          "name": "stdout",
          "output_type": "stream",
          "text": [
            "2\n",
            "4\n",
            "6\n",
            "8\n",
            "10\n"
          ]
        }
      ],
      "source": [
        "oldElementList = [1,2,3,4,5]\n",
        "elementList = [item*2 for item in oldElementList]\n",
        "for element in elementList:\n",
        "    print(element)"
      ]
    },
    {
      "cell_type": "markdown",
      "metadata": {
        "id": "e998d8d6-ac40-45e6-b5dc-8fed84d9e004"
      },
      "source": [
        "### 1.4.- Bucle con break - Loop with break \n"
      ]
    },
    {
      "cell_type": "code",
      "execution_count": null,
      "metadata": {
        "colab": {
          "base_uri": "https://localhost:8080/"
        },
        "id": "e908656e-6906-4ae2-a573-9c415d1ef8ce",
        "outputId": "07c633da-2bcb-455b-c458-a469c4f741f6"
      },
      "outputs": [
        {
          "name": "stdout",
          "output_type": "stream",
          "text": [
            "1\n",
            "3\n",
            "5\n",
            "7\n",
            "9\n",
            "11\n",
            "13\n",
            "15\n",
            "17\n",
            "19\n",
            "21\n"
          ]
        }
      ],
      "source": [
        "for element in range(1,100,2):\n",
        "    print(element)\n",
        "\n",
        "    if element == 21:\n",
        "      break\n",
        "\n"
      ]
    },
    {
      "cell_type": "markdown",
      "metadata": {
        "id": "81f2f3cf-2bc4-4b8c-bcb2-1f6e6cb63bc4"
      },
      "source": [
        "### 1.5.- Loop with continue"
      ]
    },
    {
      "cell_type": "code",
      "execution_count": null,
      "metadata": {
        "colab": {
          "base_uri": "https://localhost:8080/"
        },
        "id": "f3d3f23f-7894-482e-b684-3b995a350bc7",
        "outputId": "693d7120-e0bc-48ff-f7e7-65f0c4b4cf91"
      },
      "outputs": [
        {
          "name": "stdout",
          "output_type": "stream",
          "text": [
            "2\n",
            "3\n",
            "4\n",
            "5\n",
            "7\n",
            "8\n",
            "9\n",
            "10\n"
          ]
        }
      ],
      "source": [
        "for element in range(1,10,1):        \n",
        "    if element == 5:\n",
        "      continue\n",
        "    print(element + 1)\n",
        "      \n",
        "# print(element)    "
      ]
    },
    {
      "cell_type": "markdown",
      "metadata": {
        "id": "uMfsZPugdbRp"
      },
      "source": [
        "## 2 Repetitivas II While"
      ]
    },
    {
      "cell_type": "markdown",
      "metadata": {
        "id": "ce42061e-a052-4de2-aaaf-3188d045ac1e"
      },
      "source": [
        "\\### 2.1.- Bucle infinito con condicional True - Infinite loop with always true condition"
      ]
    },
    {
      "cell_type": "code",
      "execution_count": null,
      "metadata": {
        "colab": {
          "base_uri": "https://localhost:8080/"
        },
        "id": "e26b065c-7d8b-40d6-8c7a-2c2c1980dbf3",
        "outputId": "e5a341ef-345c-4f83-c231-1f97dff616e0"
      },
      "outputs": [
        {
          "name": "stdout",
          "output_type": "stream",
          "text": [
            "0\n",
            "1\n",
            "2\n",
            "3\n",
            "4\n",
            "5\n",
            "6\n",
            "7\n",
            "8\n",
            "9\n"
          ]
        }
      ],
      "source": [
        "iterator = 0\n",
        "while True:\n",
        "    if iterator == 10:\n",
        "        break\n",
        "    print(iterator)\n",
        "    iterator = iterator + 1\n"
      ]
    },
    {
      "cell_type": "markdown",
      "metadata": {
        "id": "458bf9be-8102-4cf4-be7e-70f4f36b872f"
      },
      "source": [
        "### 2.2.- Bucle infinito con condicional - Infinite loop with condition"
      ]
    },
    {
      "cell_type": "code",
      "execution_count": null,
      "metadata": {
        "colab": {
          "base_uri": "https://localhost:8080/"
        },
        "id": "04c05cd9-bfed-4a85-bbb2-15c2649f663b",
        "outputId": "db6521ac-9d73-4927-e98c-e6a320f03de5"
      },
      "outputs": [
        {
          "name": "stdout",
          "output_type": "stream",
          "text": [
            "0\n",
            "1\n",
            "2\n",
            "3\n",
            "4\n",
            "5\n",
            "6\n",
            "7\n",
            "8\n",
            "9\n"
          ]
        }
      ],
      "source": [
        "iterator = 0\n",
        "while iterator != 10:  # 10 != 10 Falso\n",
        "    print(iterator)\n",
        "    iterator = iterator + 1"
      ]
    },
    {
      "cell_type": "code",
      "execution_count": null,
      "metadata": {
        "id": "oXSslADx53W9"
      },
      "outputs": [],
      "source": []
    },
    {
      "cell_type": "markdown",
      "metadata": {
        "id": "XnKkUbEX54NQ"
      },
      "source": [
        "Utilizando Range  imprimir tu nombre 5 veces.\n",
        "Utilizando While  imprimir tu nombre 5 veces.\n"
      ]
    },
    {
      "cell_type": "code",
      "execution_count": null,
      "metadata": {
        "colab": {
          "base_uri": "https://localhost:8080/"
        },
        "id": "MFm4Hapm7GX-",
        "outputId": "e45013ea-375d-4ae9-f968-40675ad448d1"
      },
      "outputs": [
        {
          "name": "stdout",
          "output_type": "stream",
          "text": [
            "Ingresar nombre: Jorge\n",
            "Jorge\n",
            "Jorge\n",
            "Jorge\n",
            "Jorge\n",
            "Jorge\n"
          ]
        }
      ],
      "source": [
        "nombre = input(\"Ingresar nombre: \")\n",
        "for _ in range(5):\n",
        "  print(nombre)"
      ]
    },
    {
      "cell_type": "code",
      "execution_count": null,
      "metadata": {
        "colab": {
          "base_uri": "https://localhost:8080/"
        },
        "id": "hNULtk1e8swt",
        "outputId": "0ccb2e9b-eacb-45d1-cc38-85c85be6ec46"
      },
      "outputs": [
        {
          "name": "stdout",
          "output_type": "stream",
          "text": [
            "Ingresar nombre: Jorge\n",
            "Jorge\n",
            "Jorge\n",
            "Jorge\n",
            "Jorge\n",
            "Jorge\n"
          ]
        }
      ],
      "source": [
        "nombre = input(\"Ingresar nombre: \")\n",
        "item = 0 \n",
        "while item < 15:   # 0 < 5 True\n",
        "  print(nombre)\n",
        "  item = item + 1"
      ]
    },
    {
      "cell_type": "markdown",
      "metadata": {
        "id": "p5vAyc-C9TBF"
      },
      "source": [
        "1. Imprima 7 veces el texto “Club de ciencia Perú”.\n",
        "2. Imprima esta secuencia de numeros: 0,-1,-2,-3,-4,-5,-6,-7, -8\n",
        "3. Imprima esta secuencia de números:  90, 85, 80, 75, 70 ....25\n",
        "4. Realice un programa que sume los números pares desde el 2 al 100.\n",
        "\n"
      ]
    },
    {
      "cell_type": "code",
      "execution_count": null,
      "metadata": {
        "colab": {
          "base_uri": "https://localhost:8080/"
        },
        "id": "AB-Rg37x9_tN",
        "outputId": "249d9dd2-8fe6-4d94-ce1c-dfd168fe836e"
      },
      "outputs": [
        {
          "name": "stdout",
          "output_type": "stream",
          "text": [
            "Sumatoria de numeros pares 2550\n"
          ]
        }
      ],
      "source": [
        "suma = 0\n",
        "for item in range(2,101):\n",
        "  if item % 2 == 0:\n",
        "    suma = suma + item\n",
        "\n",
        "print(\"Sumatoria de numeros pares\",suma)    "
      ]
    },
    {
      "cell_type": "code",
      "execution_count": null,
      "metadata": {
        "colab": {
          "base_uri": "https://localhost:8080/"
        },
        "id": "nHjMHkM69StI",
        "outputId": "bd53503e-a2c9-4703-cc4d-173d315f0dca"
      },
      "outputs": [
        {
          "name": "stdout",
          "output_type": "stream",
          "text": [
            "Club de ciencia Peru\n",
            "Club de ciencia Peru\n",
            "Club de ciencia Peru\n",
            "Club de ciencia Peru\n",
            "Club de ciencia Peru\n",
            "Club de ciencia Peru\n",
            "Club de ciencia Peru\n"
          ]
        }
      ],
      "source": [
        "for _ in range(7):\n",
        "  print(\"Club de ciencia Peru\")"
      ]
    },
    {
      "cell_type": "code",
      "execution_count": null,
      "metadata": {
        "colab": {
          "base_uri": "https://localhost:8080/"
        },
        "id": "vIq_PxjX9mOT",
        "outputId": "78d9e8f9-f7ff-494f-df72-9a4bbdf34f88"
      },
      "outputs": [
        {
          "name": "stdout",
          "output_type": "stream",
          "text": [
            "0\n",
            "-1\n",
            "-2\n",
            "-3\n",
            "-4\n",
            "-5\n",
            "-6\n",
            "-7\n",
            "-8\n"
          ]
        }
      ],
      "source": [
        "for item in range(0,-9,-1):\n",
        "  print(item)"
      ]
    },
    {
      "cell_type": "code",
      "execution_count": null,
      "metadata": {
        "colab": {
          "base_uri": "https://localhost:8080/"
        },
        "id": "FBBW3R-n90e1",
        "outputId": "a89c017c-48de-452e-a3a3-5f7386112688"
      },
      "outputs": [
        {
          "name": "stdout",
          "output_type": "stream",
          "text": [
            "90\n",
            "85\n",
            "80\n",
            "75\n",
            "70\n",
            "65\n",
            "60\n",
            "55\n",
            "50\n",
            "45\n",
            "40\n",
            "35\n",
            "30\n",
            "25\n"
          ]
        }
      ],
      "source": [
        "for item in range(90,20,-5):\n",
        "  print(item)"
      ]
    },
    {
      "cell_type": "markdown",
      "metadata": {
        "id": "AA1rCz_39jp2"
      },
      "source": [
        "## 3 String"
      ]
    },
    {
      "cell_type": "markdown",
      "metadata": {
        "id": "dKSj6F8HIuWO"
      },
      "source": [
        "### 3.1 Definición\n",
        "\n",
        "\n"
      ]
    },
    {
      "cell_type": "code",
      "execution_count": null,
      "metadata": {
        "colab": {
          "base_uri": "https://localhost:8080/"
        },
        "id": "gBNmRfZG9oO_",
        "outputId": "7da2b198-f472-4197-a3ca-f8adebde67a1"
      },
      "outputs": [
        {
          "name": "stdout",
          "output_type": "stream",
          "text": [
            "Esto es un string\n"
          ]
        }
      ],
      "source": [
        "mensaje1 = 'Esto es un string'\n",
        "print(mensaje1)"
      ]
    },
    {
      "cell_type": "code",
      "execution_count": null,
      "metadata": {
        "colab": {
          "base_uri": "https://localhost:8080/"
        },
        "id": "JpLZ7HyuA0M1",
        "outputId": "30f7ec9b-bb7d-4053-ec25-1125dbc1e380"
      },
      "outputs": [
        {
          "name": "stdout",
          "output_type": "stream",
          "text": [
            "Esto es un string\n"
          ]
        }
      ],
      "source": [
        "mensaje3 = \"Esto es un string\"\n",
        "print(mensaje3)"
      ]
    },
    {
      "cell_type": "code",
      "execution_count": null,
      "metadata": {
        "colab": {
          "base_uri": "https://localhost:8080/"
        },
        "id": "WaYFoOXXA4yO",
        "outputId": "802010e4-1d1a-4967-f3d7-365449af8882"
      },
      "outputs": [
        {
          "name": "stdout",
          "output_type": "stream",
          "text": [
            "Mi nombre es Jorge\n",
            "Linea 2\n",
            "Linea 3\n"
          ]
        }
      ],
      "source": [
        "mensaje2 =\"\"\"Mi nombre es Jorge\n",
        "Linea 2\n",
        "Linea 3\"\"\"\n",
        "print(mensaje2)"
      ]
    },
    {
      "cell_type": "markdown",
      "metadata": {
        "id": "DDmTZe11LU-j"
      },
      "source": [
        "#### Casting"
      ]
    },
    {
      "cell_type": "code",
      "execution_count": null,
      "metadata": {
        "colab": {
          "base_uri": "https://localhost:8080/"
        },
        "id": "iio3bNI1LWf5",
        "outputId": "f8a67ee0-e058-4b03-ce60-68c12cfc0286"
      },
      "outputs": [
        {
          "name": "stdout",
          "output_type": "stream",
          "text": [
            "El valor de pi es 3.14\n"
          ]
        }
      ],
      "source": [
        "pi = 3.14\n",
        "texto = \"El valor de pi es \" + str(pi)\n",
        "print(texto)\n"
      ]
    },
    {
      "cell_type": "markdown",
      "metadata": {
        "id": "bFrRmKCeNSj3"
      },
      "source": [
        "#### Indice"
      ]
    },
    {
      "cell_type": "code",
      "execution_count": null,
      "metadata": {
        "colab": {
          "base_uri": "https://localhost:8080/"
        },
        "id": "johc-DcpLWoU",
        "outputId": "0b1351ec-7770-40ff-8510-b597e506683d"
      },
      "outputs": [
        {
          "name": "stdout",
          "output_type": "stream",
          "text": [
            "y\n",
            "Monty \n",
            "Pyth\n",
            "on\n",
            "Resultado\n",
            "Monty Python\n"
          ]
        }
      ],
      "source": [
        "palabra = \"Monty Python\"\n",
        "print(palabra[4])\n",
        "print(palabra[:6]). #[:hasta antes de] si esta vacio el inicio , significa que va desde la posicion 0\n",
        "print(palabra[6:10]). # [inicio, hasta antes de]\n",
        "print(palabra[10:])\n",
        "print(\"Resultado\")\n",
        "print(palabra[:6] + palabra[6:10] + palabra[10:])"
      ]
    },
    {
      "cell_type": "markdown",
      "metadata": {
        "id": "MQtMk81iLEDu"
      },
      "source": [
        "### 3.2 Funciones"
      ]
    },
    {
      "cell_type": "markdown",
      "metadata": {
        "id": "Wwu4vubZMWag"
      },
      "source": [
        "#### Len()"
      ]
    },
    {
      "cell_type": "code",
      "execution_count": null,
      "metadata": {
        "colab": {
          "base_uri": "https://localhost:8080/"
        },
        "id": "6Q34U0qCMZ3T",
        "outputId": "a2b5e7a9-3088-4ede-9ee7-f31b13bac17e"
      },
      "outputs": [
        {
          "name": "stdout",
          "output_type": "stream",
          "text": [
            "6\n"
          ]
        }
      ],
      "source": [
        "palabra = \"aeiou1\"\n",
        "print(len(palabra))"
      ]
    },
    {
      "cell_type": "markdown",
      "metadata": {
        "id": "uq4EiGIRMaFY"
      },
      "source": [
        "#### Find()"
      ]
    },
    {
      "cell_type": "code",
      "execution_count": null,
      "metadata": {
        "colab": {
          "background_save": true,
          "base_uri": "https://localhost:8080/"
        },
        "id": "NZgSWZHLMdR0",
        "outputId": "c95bfa82-5b33-462b-8a56-95cec779fba2"
      },
      "outputs": [
        {
          "name": "stdout",
          "output_type": "stream",
          "text": [
            "17\n",
            "12\n"
          ]
        }
      ],
      "source": [
        "texto = \"Hola mundo, como estas enano\"\n",
        "print(texto.find(\"e\"))\n",
        "print(texto.find(\"como\"))"
      ]
    },
    {
      "cell_type": "markdown",
      "metadata": {
        "id": "5-VqSbIaMjfA"
      },
      "source": [
        "#### Replace()"
      ]
    },
    {
      "cell_type": "code",
      "execution_count": null,
      "metadata": {
        "colab": {
          "base_uri": "https://localhost:8080/"
        },
        "id": "fyqkxbV6Mltv",
        "outputId": "26c9bdbf-4e5d-4f14-db9d-ac45d04ac21a"
      },
      "outputs": [
        {
          "name": "stdout",
          "output_type": "stream",
          "text": [
            "Variables globales y variables Local\n"
          ]
        }
      ],
      "source": [
        "palabras = \"Variables globales y variables locales\"\n",
        "palabras = palabras.replace(\"locales\",\"Local\")\n",
        "print(palabras)"
      ]
    },
    {
      "cell_type": "markdown",
      "metadata": {
        "id": "Xc-CpNrEMl4Q"
      },
      "source": [
        "#### Capitalize()"
      ]
    },
    {
      "cell_type": "code",
      "execution_count": null,
      "metadata": {
        "colab": {
          "base_uri": "https://localhost:8080/"
        },
        "id": "4-kmUdNgMol2",
        "outputId": "05266f22-56a5-4ea9-a53e-ce444a034afa"
      },
      "outputs": [
        {
          "name": "stdout",
          "output_type": "stream",
          "text": [
            "H\n"
          ]
        }
      ],
      "source": [
        "cadena = \"hoy dia se estrena doctor Strange\"\n",
        "print(cadena[0].capitalize())"
      ]
    },
    {
      "cell_type": "markdown",
      "metadata": {
        "id": "uFF96wC0Mu74"
      },
      "source": [
        "#### Lower()"
      ]
    },
    {
      "cell_type": "code",
      "execution_count": null,
      "metadata": {
        "colab": {
          "base_uri": "https://localhost:8080/"
        },
        "id": "l9kcnuw8MxcG",
        "outputId": "5cbd0aba-03a1-4142-9f15-f8fac80b2ad6"
      },
      "outputs": [
        {
          "name": "stdout",
          "output_type": "stream",
          "text": [
            "hoy dia se estrena doctor strange\n"
          ]
        }
      ],
      "source": [
        "cadena = \"Hoy dia se eStrena doctor StrAnge\"\n",
        "print(cadena.lower())"
      ]
    },
    {
      "cell_type": "markdown",
      "metadata": {
        "id": "v_pX2FvRM0l3"
      },
      "source": [
        "#### Upper()"
      ]
    },
    {
      "cell_type": "code",
      "execution_count": null,
      "metadata": {
        "colab": {
          "base_uri": "https://localhost:8080/"
        },
        "id": "d_AHDM4NM2T4",
        "outputId": "593e5423-04a8-498f-d76d-e82cd4228338"
      },
      "outputs": [
        {
          "name": "stdout",
          "output_type": "stream",
          "text": [
            "HOY DIA SE ESTRENA DOCTOR STRANGE\n"
          ]
        }
      ],
      "source": [
        "cadena = \"Hoy dia se eStrena doctor StrAnge\"\n",
        "print(cadena.upper())"
      ]
    },
    {
      "cell_type": "markdown",
      "metadata": {
        "id": "2yPR_wnjM2eZ"
      },
      "source": [
        "#### Strip()"
      ]
    },
    {
      "cell_type": "code",
      "execution_count": null,
      "metadata": {
        "colab": {
          "base_uri": "https://localhost:8080/"
        },
        "id": "M04QRZiQM4oi",
        "outputId": "6e772371-5342-4c7f-dd87-d3bfecde0f62"
      },
      "outputs": [
        {
          "name": "stdout",
          "output_type": "stream",
          "text": [
            "Hoy dia se eStrena doctor StrAnge\n"
          ]
        }
      ],
      "source": [
        "cadena = \"  Hoy dia se eStrena doctor StrAnge   \"\n",
        "print(cadena.strip())"
      ]
    },
    {
      "cell_type": "markdown",
      "metadata": {
        "id": "fG9lEBD7M827"
      },
      "source": [
        "#### Join()"
      ]
    },
    {
      "cell_type": "code",
      "execution_count": null,
      "metadata": {
        "colab": {
          "base_uri": "https://localhost:8080/"
        },
        "id": "5RpIkxiLLFY3",
        "outputId": "b8900e91-a05a-4840-e75c-ff3107d38a59"
      },
      "outputs": [
        {
          "name": "stdout",
          "output_type": "stream",
          "text": [
            "H-o-l-a\n"
          ]
        }
      ],
      "source": [
        "palabra = \"Hola\"\n",
        "print(\"-\".join(palabra))\n"
      ]
    },
    {
      "cell_type": "markdown",
      "metadata": {
        "id": "05f91789-32f0-44fd-aa7a-38a7cdde7173"
      },
      "source": [
        "## 4 Lista"
      ]
    },
    {
      "cell_type": "markdown",
      "metadata": {
        "id": "ZS4itIdhKsdd"
      },
      "source": [
        "### 4.1 Definición"
      ]
    },
    {
      "cell_type": "code",
      "execution_count": null,
      "metadata": {
        "colab": {
          "base_uri": "https://localhost:8080/"
        },
        "id": "YWhnHYCNKsde",
        "outputId": "2334382b-9c48-4c7e-99b7-105ac045d328"
      },
      "outputs": [
        {
          "output_type": "stream",
          "name": "stdout",
          "text": [
            "[0, 1, 2, 3, 4, 5, 6, 7, 8, 9]\n",
            "['Lunes', 'Martes', 'Miercoles', 'Jueves', 'Viernes', 'Sabado', 'Domingo']\n",
            "[1, 'Martes', 3, 'Jueves', 5, 'Sabado', 7, 7.12, True]\n",
            "<class 'list'>\n"
          ]
        }
      ],
      "source": [
        "lista1 = []  #len = 0\n",
        "lista2 = [None] #len = 1\n",
        "\n",
        "enteros = [0,1,2,3,4,5,6,7,8,9]\n",
        "dias = [\"Lunes\",\"Martes\",\"Miercoles\",\"Jueves\",\"Viernes\",\"Sabado\",\"Domingo\"]\n",
        "variados = [1,\"Martes\",3,\"Jueves\",5,\"Sabado\",7,7.12,True]\n",
        "\n",
        "print(enteros)\n",
        "print(dias)\n",
        "print(variados)\n",
        "print(type(enteros))"
      ]
    },
    {
      "cell_type": "markdown",
      "metadata": {
        "id": "P5y_1LxiHyRC"
      },
      "source": [
        "#### Indices de Lista"
      ]
    },
    {
      "cell_type": "code",
      "execution_count": null,
      "metadata": {
        "colab": {
          "base_uri": "https://localhost:8080/"
        },
        "id": "7V2CJelwDo9r",
        "outputId": "d78191f6-29d8-4158-956e-cbe045d7fa63"
      },
      "outputs": [
        {
          "output_type": "stream",
          "name": "stdout",
          "text": [
            "Valor que se encuentra en el indice 1:  Domingo\n"
          ]
        }
      ],
      "source": [
        "#positivos\n",
        "dias = [\"Lunes\",\"Martes\",\"Miercoles\",\"Jueves\",\"Viernes\",\"Sabado\",\"Domingo\"]\n",
        "print(\"Valor que se encuentra en el indice 1: \", dias[6])\n"
      ]
    },
    {
      "cell_type": "code",
      "execution_count": null,
      "metadata": {
        "colab": {
          "base_uri": "https://localhost:8080/"
        },
        "id": "ZcxxDqLTD6ep",
        "outputId": "bf707243-b94e-4f9d-d3ca-92f3ab1f28f0"
      },
      "outputs": [
        {
          "output_type": "stream",
          "name": "stdout",
          "text": [
            "Valor que se encuentra en el indice ultimo 6:  Domingo\n",
            "Valor que se encuentra en el indice ultimo 6:  Miercoles\n",
            "Valor que se encuentra enel indice 4 : Viernes\n"
          ]
        }
      ],
      "source": [
        "#negativos\n",
        "dias = [\"Lunes\",\"Martes\",\"Miercoles\",\"Jueves\",\"Viernes\",\"Sabado\",\"Domingo\"]\n",
        "print(\"Valor que se encuentra en el indice ultimo 6: \",dias[-1])\n",
        "print(\"Valor que se encuentra en el indice ultimo 6: \",dias[-5])\n",
        "print(\"Valor que se encuentra enel indice 4 :\",dias[-3])\n",
        "\n"
      ]
    },
    {
      "cell_type": "code",
      "execution_count": null,
      "metadata": {
        "colab": {
          "base_uri": "https://localhost:8080/"
        },
        "id": "ZUroJhrMHT9W",
        "outputId": "842b0b66-27e4-45eb-8582-b555d6af47e7"
      },
      "outputs": [
        {
          "output_type": "stream",
          "name": "stdout",
          "text": [
            "Juan\n",
            "Luis\n",
            "Almendra\n",
            "Jorlan\n",
            "Maria\n",
            "Luisa\n"
          ]
        }
      ],
      "source": [
        "#Asignación multiple\n",
        "lista = [\"Juan\",\"Luis\", \"Almendra\",\"Jorlan\",\"Maria\",\"Luisa\"]\n",
        "nom1, nom2, nom3, nom4, nom5, nom6  = lista\n",
        "print(nom1)\n",
        "print(nom2)\n",
        "print(nom3)\n",
        "print(nom4)\n",
        "print(nom5)\n",
        "print(nom6)"
      ]
    },
    {
      "cell_type": "markdown",
      "metadata": {
        "id": "Q5ybX2W5HtCB"
      },
      "source": [
        "#### Iteración de Lista"
      ]
    },
    {
      "cell_type": "code",
      "execution_count": null,
      "metadata": {
        "colab": {
          "base_uri": "https://localhost:8080/"
        },
        "id": "o3IVkfZ9HdnV",
        "outputId": "31660375-4894-4086-fdb2-d2eec82a1789"
      },
      "outputs": [
        {
          "output_type": "stream",
          "name": "stdout",
          "text": [
            "Iteracion 1 Juan\n",
            "Iteracion 2 Luis\n",
            "Iteracion 3 Almendra\n",
            "Iteracion 4 Jorlan\n",
            "Iteracion 5 Maria\n",
            "Iteracion 6 Luisa\n"
          ]
        }
      ],
      "source": [
        "\n",
        "lista = [\"Juan\",\"Luis\", \"Almendra\",\"Jorlan\",\"Maria\",\"Luisa\"]\n",
        "\n",
        "#Iteración por un elemento\n",
        "i = 1\n",
        "for item in lista:\n",
        "    print(\"Iteracion\",i,item)\n",
        "    i=i+1\n",
        "\n"
      ]
    },
    {
      "cell_type": "code",
      "execution_count": null,
      "metadata": {
        "colab": {
          "base_uri": "https://localhost:8080/"
        },
        "id": "TXlrLnM9Hkiu",
        "outputId": "c6aac77a-b4c2-47bc-f772-0af150d19432"
      },
      "outputs": [
        {
          "output_type": "stream",
          "name": "stdout",
          "text": [
            "indice 0 Juan\n",
            "indice 1 Luis\n",
            "indice 2 Almendra\n",
            "indice 3 Jorlan\n",
            "indice 4 Maria\n",
            "indice 5 Luisa\n"
          ]
        }
      ],
      "source": [
        "#Iteración basada en el índice\n",
        "for indice in range(len(lista)):\n",
        "    print(\"indice\",indice,lista[indice])\n",
        "    "
      ]
    },
    {
      "cell_type": "code",
      "execution_count": null,
      "metadata": {
        "colab": {
          "base_uri": "https://localhost:8080/"
        },
        "id": "-3CUe4cVHlrp",
        "outputId": "7e186da8-9cf4-42da-80dc-7ee1d4581bfd"
      },
      "outputs": [
        {
          "output_type": "stream",
          "name": "stdout",
          "text": [
            "Indice [0]: Juan\n",
            "Indice [1]: Luis\n",
            "Indice [2]: Almendra\n",
            "Indice [3]: Jorlan\n",
            "Indice [4]: Maria\n",
            "Indice [5]: Luisa\n"
          ]
        }
      ],
      "source": [
        "#enumerate cuando queremos usar el indice y elemento a la vez.\n",
        "for indice, elemento in enumerate(lista):\n",
        "    print(\"Indice [{}]: {}\".format(indice,elemento))"
      ]
    },
    {
      "cell_type": "markdown",
      "metadata": {
        "id": "b8e07b1f-316f-4692-8546-380321ce0c1a"
      },
      "source": [
        "### 4.2 Operaciones"
      ]
    },
    {
      "cell_type": "markdown",
      "metadata": {
        "id": "b6a3cd4c-25ea-4bcd-a757-113a4185a51a"
      },
      "source": [
        "Sumatoria"
      ]
    },
    {
      "cell_type": "code",
      "execution_count": null,
      "metadata": {
        "colab": {
          "base_uri": "https://localhost:8080/"
        },
        "id": "486804e5-208d-4245-ab23-4c6d24ce0d80",
        "outputId": "2150b056-4c3b-436f-8a13-c688fef20325"
      },
      "outputs": [
        {
          "output_type": "stream",
          "name": "stdout",
          "text": [
            "[1, 2, 3, 4, 5, 10, 5]\n",
            "<class 'list'>\n"
          ]
        }
      ],
      "source": [
        "listOperation = [1,2,3,4,5]+ [10,5]\n",
        "print(listOperation)\n",
        "print(type(listOperation))"
      ]
    },
    {
      "cell_type": "markdown",
      "metadata": {
        "id": "Z2rH_NT7C2I1"
      },
      "source": [
        "Mutiplicación"
      ]
    },
    {
      "cell_type": "code",
      "execution_count": null,
      "metadata": {
        "colab": {
          "base_uri": "https://localhost:8080/"
        },
        "id": "f1514257-0fc6-48c6-93ba-3f6b8fd8b7e1",
        "outputId": "c4d20764-b692-45d1-91cb-9f381d1e4aef"
      },
      "outputs": [
        {
          "output_type": "stream",
          "name": "stdout",
          "text": [
            "[1, 2, 3, 4, 5, 1, 2, 3, 4, 5]\n",
            "<class 'list'>\n"
          ]
        }
      ],
      "source": [
        "listOperation = [1,2,3,4,5] * 2\n",
        "print(listOperation)\n",
        "print(type(listOperation))"
      ]
    },
    {
      "cell_type": "markdown",
      "metadata": {
        "id": "fa3530c8-9566-4c75-9a38-021b5b3e5de8"
      },
      "source": [
        "### 4.3 Funciones"
      ]
    },
    {
      "cell_type": "markdown",
      "metadata": {
        "id": "ea1dd2f4-5dbf-4830-b23a-460df341c48e"
      },
      "source": [
        "#### Append()"
      ]
    },
    {
      "cell_type": "code",
      "execution_count": null,
      "metadata": {
        "id": "fb9b98eb-6a3a-4262-92d3-853a504c7249",
        "colab": {
          "base_uri": "https://localhost:8080/"
        },
        "outputId": "ae5f8fbe-7c7f-450e-e7fd-4fc1d4d3a9ea"
      },
      "outputs": [
        {
          "output_type": "stream",
          "name": "stdout",
          "text": [
            "lista inicial [1, 2]\n",
            "lista final [1, 2, 3]\n",
            "<class 'list'>\n"
          ]
        }
      ],
      "source": [
        "listFunction = [1,2]\n",
        "print(\"lista inicial\",listFunction)\n",
        "listFunction.append(3)\n",
        "print(\"lista final\",listFunction)\n",
        "print(type(listFunction))"
      ]
    },
    {
      "cell_type": "code",
      "execution_count": null,
      "metadata": {
        "id": "22379b09-2a42-4589-8c1a-d7c361c8db3d",
        "colab": {
          "base_uri": "https://localhost:8080/"
        },
        "outputId": "4472ea69-2db5-4a73-9778-334965d5784d"
      },
      "outputs": [
        {
          "output_type": "stream",
          "name": "stdout",
          "text": [
            "lista inicial [1, 2]\n",
            "lista final [1, 2, [3, 4]]\n",
            "<class 'list'>\n"
          ]
        }
      ],
      "source": [
        "listFunction = [1,2]\n",
        "print(\"lista inicial\",listFunction)\n",
        "listFunction.append([3,4])\n",
        "print(\"lista final\",listFunction)\n",
        "print(type(listFunction))"
      ]
    },
    {
      "cell_type": "markdown",
      "metadata": {
        "id": "6b1096ac-d5b9-436c-9384-93f1a1304596"
      },
      "source": [
        "#### Insert()"
      ]
    },
    {
      "cell_type": "code",
      "execution_count": null,
      "metadata": {
        "colab": {
          "base_uri": "https://localhost:8080/"
        },
        "id": "b36da49d-9337-42d8-937e-60b62353cce0",
        "outputId": "3027cc32-c467-4e0d-b257-e70f13bc1dc2"
      },
      "outputs": [
        {
          "output_type": "stream",
          "name": "stdout",
          "text": [
            "[1, 3, 2]\n",
            "<class 'list'>\n"
          ]
        }
      ],
      "source": [
        "listFunction = [1,2]\n",
        "listFunction.insert(1,3)\n",
        "print(listFunction)\n",
        "print(type(listFunction))"
      ]
    },
    {
      "cell_type": "markdown",
      "metadata": {
        "id": "lwNVE_bTH_Hu"
      },
      "source": [
        "#### Pop()"
      ]
    },
    {
      "cell_type": "code",
      "execution_count": null,
      "metadata": {
        "colab": {
          "base_uri": "https://localhost:8080/"
        },
        "id": "KHctqh6XIBc3",
        "outputId": "29684441-ee0b-4f37-9798-844f5f453d73"
      },
      "outputs": [
        {
          "output_type": "stream",
          "name": "stdout",
          "text": [
            "Lista inicial ['a', 'b', 'c', 'd', 'e', 'f', 'g', 'h', 'i', 'j', 'k', 'l']\n",
            "Elemento eliminado por pop: l\n",
            "Elemento eliminado por pop: k\n",
            "Lista final ['a', 'b', 'c', 'd', 'e', 'f', 'g', 'h', 'i', 'j']\n"
          ]
        }
      ],
      "source": [
        "lista_letras = [ 'a','b','c','d','e','f','g','h','i','j','k','l']\n",
        "print(\"Lista inicial\",lista_letras)\n",
        "\n",
        "itemEliminado = lista_letras.pop() # eliminado l - [ 'a','b','c','d','e','f','g','h','i','j','k']\n",
        "print(\"Elemento eliminado por pop:\",itemEliminado)\n",
        "\n",
        "\n",
        "itemEliminado2 = lista_letras.pop() # eliminado k - [ 'a','b','c','d','e','f','g','h','i','j']\n",
        "print(\"Elemento eliminado por pop:\",itemEliminado2)\n",
        "\n",
        "print(\"Lista final\",lista_letras)"
      ]
    },
    {
      "cell_type": "markdown",
      "metadata": {
        "id": "47e97fb7-94b2-4ae7-accd-e657f97fe33b"
      },
      "source": [
        "#### Slicing"
      ]
    },
    {
      "cell_type": "code",
      "execution_count": null,
      "metadata": {
        "id": "7c08d169-36d0-43b8-8db7-e1419c362f60",
        "colab": {
          "base_uri": "https://localhost:8080/"
        },
        "outputId": "c1f2ee72-bf87-440a-b497-cf2d4950ca80"
      },
      "outputs": [
        {
          "output_type": "stream",
          "name": "stdout",
          "text": [
            "[1, 2, 3, 4]\n",
            "1\n",
            "[2]\n",
            "[2, 3, 4]\n",
            "[1, 2]\n",
            "[3, 4]\n",
            "<class 'list'>\n"
          ]
        }
      ],
      "source": [
        "listFunction = [1,2,3,4]\n",
        "print(listFunction)\n",
        "print(listFunction[0])   #Select an specific number based on its index range\n",
        "print(listFunction[1:2]) #Select an specific range of numbers based on its index range\n",
        "print(listFunction[1:])  #Select an specific range of numbers based on its index start\n",
        "print(listFunction[:2])  #Select an specific range of numbers based on its index end\n",
        "print(listFunction[-2:]) #Select an specific range of numbers based on its index reverse start \n",
        "print(type(listFunction))"
      ]
    },
    {
      "cell_type": "markdown",
      "metadata": {
        "id": "5DABagu_DLd9"
      },
      "source": [
        "#### IN"
      ]
    },
    {
      "cell_type": "code",
      "execution_count": null,
      "metadata": {
        "colab": {
          "base_uri": "https://localhost:8080/"
        },
        "id": "ZLTy6GmPDMe1",
        "outputId": "d4cdc457-88bb-4221-fceb-5cfa357384ea"
      },
      "outputs": [
        {
          "output_type": "stream",
          "name": "stdout",
          "text": [
            "True\n",
            "False\n"
          ]
        }
      ],
      "source": [
        "lista = [\"Juan\",\"Luis\", \"Almendra\",\"Jorlan\",\"Maria\",\"Luisa\"]\n",
        "print( \"Juan\" in lista)\n",
        "print( \"Pedro\" in lista)\n",
        "\n"
      ]
    },
    {
      "cell_type": "markdown",
      "metadata": {
        "id": "RebCGu-IDMox"
      },
      "source": [
        "#### NOT IT"
      ]
    },
    {
      "cell_type": "code",
      "execution_count": null,
      "metadata": {
        "colab": {
          "base_uri": "https://localhost:8080/"
        },
        "id": "MDdheX4IDSYE",
        "outputId": "f88e1673-1a93-4642-a95a-49e33a78b717"
      },
      "outputs": [
        {
          "output_type": "stream",
          "name": "stdout",
          "text": [
            "False\n",
            "True\n"
          ]
        }
      ],
      "source": [
        "lista = [\"Juan\",\"Luis\", \"Almendra\",\"Jorlan\",\"Maria\",\"Luisa\"]\n",
        "print( \"Juan\" not in lista)\n",
        "print( \"Pedro\" not in lista)"
      ]
    }
  ],
  "metadata": {
    "colab": {
      "provenance": []
    },
    "kernelspec": {
      "display_name": "Python 3",
      "name": "python3"
    },
    "language_info": {
      "name": "python"
    }
  },
  "nbformat": 4,
  "nbformat_minor": 0
}