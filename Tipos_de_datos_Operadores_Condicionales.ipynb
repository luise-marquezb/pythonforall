{
  "cells": [
    {
      "attachments": {},
      "cell_type": "markdown",
      "metadata": {
        "id": "k4b7yCDsaCNK"
      },
      "source": [
        "##1. Tipo de datos\n",
        "- Cadenas/texto - **str**\n",
        "- Decimales - **float**\n",
        "- Enteros - **int**\n",
        "- Booleanos - **bool**"
      ]
    },
    {
      "attachments": {},
      "cell_type": "markdown",
      "metadata": {
        "id": "U5Wpe2t3C_Zm"
      },
      "source": [
        "###String"
      ]
    },
    {
      "cell_type": "code",
      "execution_count": 1,
      "metadata": {
        "colab": {
          "base_uri": "https://localhost:8080/"
        },
        "id": "KFYQr0yUXXfV",
        "outputId": "c1597e6d-c49e-48b8-c86c-47d13e5bd30f"
      },
      "outputs": [
        {
          "name": "stdout",
          "output_type": "stream",
          "text": [
            "Hello, World!\n",
            "3.14\n"
          ]
        }
      ],
      "source": [
        "#String\n",
        "texto = \"Hello, World!\"\n",
        "pi = \"3.14\"\n",
        "print(texto)\n",
        "print(pi)"
      ]
    },
    {
      "attachments": {},
      "cell_type": "markdown",
      "metadata": {
        "id": "nDju_DJUDBUx"
      },
      "source": [
        "###Integer\n"
      ]
    },
    {
      "cell_type": "code",
      "execution_count": null,
      "metadata": {
        "colab": {
          "base_uri": "https://localhost:8080/"
        },
        "id": "GGz_NVfCCK4j",
        "outputId": "d47eaf43-459b-4b82-9e2d-81ef3e14b708"
      },
      "outputs": [
        {
          "name": "stdout",
          "output_type": "stream",
          "text": [
            "25\n"
          ]
        }
      ],
      "source": [
        "#Integer\n",
        "entero = 25\n",
        "print(entero)"
      ]
    },
    {
      "attachments": {},
      "cell_type": "markdown",
      "metadata": {
        "id": "xSlMppbFDEmq"
      },
      "source": [
        "###Float"
      ]
    },
    {
      "cell_type": "code",
      "execution_count": null,
      "metadata": {
        "colab": {
          "base_uri": "https://localhost:8080/"
        },
        "id": "5FSdSLuOCN99",
        "outputId": "846aa351-1592-46fc-dc38-3ee392d08148"
      },
      "outputs": [
        {
          "name": "stdout",
          "output_type": "stream",
          "text": [
            "3.14\n"
          ]
        }
      ],
      "source": [
        "#Float\n",
        "pi = 3.14\n",
        "print(pi)"
      ]
    },
    {
      "cell_type": "code",
      "execution_count": null,
      "metadata": {
        "colab": {
          "base_uri": "https://localhost:8080/"
        },
        "id": "IvbkSq1zDgLA",
        "outputId": "71898081-743c-4593-d29b-491e1b51441f"
      },
      "outputs": [
        {
          "name": "stdout",
          "output_type": "stream",
          "text": [
            "sys.int_info(bits_per_digit=30, sizeof_digit=4)\n",
            "\n",
            "sys.float_info(max=1.7976931348623157e+308, max_exp=1024, max_10_exp=308, min=2.2250738585072014e-308, min_exp=-1021, min_10_exp=-307, dig=15, mant_dig=53, epsilon=2.220446049250313e-16, radix=2, rounds=1)\n"
          ]
        }
      ],
      "source": [
        "import sys\n",
        "print(sys.int_info)\n",
        "print() # to add a space between two outputs, use 'print()' functon \n",
        "print(sys.float_info)"
      ]
    },
    {
      "attachments": {},
      "cell_type": "markdown",
      "metadata": {
        "id": "7cBQnk9KDQ4O"
      },
      "source": [
        "###Boolean"
      ]
    },
    {
      "cell_type": "code",
      "execution_count": null,
      "metadata": {
        "colab": {
          "base_uri": "https://localhost:8080/"
        },
        "id": "HRrMOaViCa0-",
        "outputId": "f486497d-a8e6-46a7-cc4e-254740ab7aee"
      },
      "outputs": [
        {
          "name": "stdout",
          "output_type": "stream",
          "text": [
            "True\n",
            "True\n",
            "False\n",
            "True\n",
            "False\n"
          ]
        }
      ],
      "source": [
        "# Boolean \n",
        "bandera = True\n",
        "print(bandera)\n",
        "print(True)  # verdadero\n",
        "print(False) # falso\n",
        "print(bool(1)) \n",
        "print(bool(0))\n"
      ]
    },
    {
      "attachments": {},
      "cell_type": "markdown",
      "metadata": {
        "id": "Mg-t-aaCC6tC"
      },
      "source": [
        "###Clases de datos utilizando TYPE"
      ]
    },
    {
      "cell_type": "code",
      "execution_count": null,
      "metadata": {
        "colab": {
          "base_uri": "https://localhost:8080/"
        },
        "id": "bkbeikphjksG",
        "outputId": "cb34c505-d9d3-48be-e473-c4fa5232b20d"
      },
      "outputs": [
        {
          "name": "stdout",
          "output_type": "stream",
          "text": [
            "<class 'float'>\n"
          ]
        }
      ],
      "source": [
        "texto = \"Hello, World!\"\n",
        "pi = \"3.14\"\n",
        "pi = 3.14\n",
        "print(type(pi))"
      ]
    },
    {
      "cell_type": "code",
      "execution_count": null,
      "metadata": {
        "colab": {
          "base_uri": "https://localhost:8080/"
        },
        "id": "0mHdRb21ZWwS",
        "outputId": "a7026549-c022-470f-cc89-79c3e64b07f9"
      },
      "outputs": [
        {
          "name": "stdout",
          "output_type": "stream",
          "text": [
            "<class 'str'>\n",
            "<class 'int'>\n",
            "<class 'int'>\n",
            "<class 'int'>\n",
            "<class 'int'>\n",
            "<class 'float'>\n",
            "<class 'float'>\n",
            "<class 'float'>\n",
            "<class 'float'>\n",
            "<class 'bool'>\n",
            "<class 'bool'>\n"
          ]
        }
      ],
      "source": [
        "# String\n",
        "print(type('Hello, World!'))\n",
        "# Integer\n",
        "print(type(15))\n",
        "print(type(-24))\n",
        "print(type(0))\n",
        "print(type(1))\n",
        "# Float\n",
        "print(type(3.14))\n",
        "print(type(0.5))\n",
        "print(type(1.0))\n",
        "print(type(-5.0)) \n",
        "# Boolean\n",
        "print(type(True)) \n",
        "print(type(False))"
      ]
    },
    {
      "attachments": {},
      "cell_type": "markdown",
      "metadata": {
        "id": "NTeYPPeTZ257"
      },
      "source": [
        "##2. Casting"
      ]
    },
    {
      "cell_type": "code",
      "execution_count": null,
      "metadata": {
        "colab": {
          "base_uri": "https://localhost:8080/"
        },
        "id": "wOgxNVPPkjZ7",
        "outputId": "e9cea438-2aeb-44c2-e66b-cc7d456ba1fc"
      },
      "outputs": [
        {
          "name": "stdout",
          "output_type": "stream",
          "text": [
            "Ingresar numero 1: 20\n",
            "Ingresar numero 2: 0\n",
            "200\n",
            "<class 'str'>\n"
          ]
        }
      ],
      "source": [
        "numero1 = input(\"Ingresar numero 1: \")\n",
        "numero2 = input(\"Ingresar numero 2: \")\n",
        "numero3 = numero1 + numero2\n",
        "print(numero3)\n",
        "print(type(numero3))"
      ]
    },
    {
      "cell_type": "code",
      "execution_count": null,
      "metadata": {
        "colab": {
          "base_uri": "https://localhost:8080/"
        },
        "id": "oF1snLBqmENz",
        "outputId": "76d9d54d-fa4a-44e8-ad65-12c3a2e84456"
      },
      "outputs": [
        {
          "name": "stdout",
          "output_type": "stream",
          "text": [
            "Ingresar numero 1: 20\n",
            "Ingresar numero 2: 40\n",
            "60\n",
            "<class 'int'>\n"
          ]
        }
      ],
      "source": [
        "numero1 = int(input(\"Ingresar numero 1: \"))\n",
        "numero2 = int(input(\"Ingresar numero 2: \"))\n",
        "numero3 = numero1 + numero2\n",
        "print(numero3)\n",
        "print(type(numero3))"
      ]
    },
    {
      "cell_type": "code",
      "execution_count": null,
      "metadata": {
        "colab": {
          "base_uri": "https://localhost:8080/"
        },
        "id": "AFCDqHbjFqfM",
        "outputId": "26cef59d-3f23-446b-a7a0-e7594372076d"
      },
      "outputs": [
        {
          "name": "stdout",
          "output_type": "stream",
          "text": [
            "True\n",
            "<class 'str'>\n"
          ]
        }
      ],
      "source": [
        "numericCast = str(True)\n",
        "print(numericCast)\n",
        "print(type(numericCast))"
      ]
    },
    {
      "cell_type": "code",
      "execution_count": null,
      "metadata": {
        "colab": {
          "base_uri": "https://localhost:8080/"
        },
        "id": "H-q3GyCaJspw",
        "outputId": "96c9947b-2f82-4190-dc98-c4fded5b0fb4"
      },
      "outputs": [
        {
          "name": "stdout",
          "output_type": "stream",
          "text": [
            "2\n",
            "<class 'int'>\n"
          ]
        }
      ],
      "source": [
        "numericCast = int(\"2\")\n",
        "print(numericCast)\n",
        "print(type(numericCast))"
      ]
    },
    {
      "cell_type": "code",
      "execution_count": null,
      "metadata": {
        "colab": {
          "base_uri": "https://localhost:8080/"
        },
        "id": "4cofFYZWJv_-",
        "outputId": "a50906e7-4e46-4392-d00d-6de918077dce"
      },
      "outputs": [
        {
          "name": "stdout",
          "output_type": "stream",
          "text": [
            "2.0\n",
            "<class 'float'>\n"
          ]
        }
      ],
      "source": [
        "numericCast = float(2)\n",
        "print(numericCast)\n",
        "print(type(numericCast))"
      ]
    },
    {
      "cell_type": "code",
      "execution_count": null,
      "metadata": {
        "colab": {
          "base_uri": "https://localhost:8080/"
        },
        "id": "BvT9cfyRJ0u4",
        "outputId": "38d49713-203d-40d7-f862-bdc1e96ff429"
      },
      "outputs": [
        {
          "name": "stdout",
          "output_type": "stream",
          "text": [
            "2\n",
            "<class 'int'>\n"
          ]
        }
      ],
      "source": [
        "numericCast = int(2.9)\n",
        "print(numericCast)\n",
        "print(type(numericCast))"
      ]
    },
    {
      "cell_type": "code",
      "execution_count": null,
      "metadata": {
        "colab": {
          "base_uri": "https://localhost:8080/"
        },
        "id": "haUHQaTJJ2ug",
        "outputId": "2336a747-9b35-44b3-e334-f30fa48e17dd"
      },
      "outputs": [
        {
          "name": "stdout",
          "output_type": "stream",
          "text": [
            "2.4\n",
            "<class 'str'>\n"
          ]
        }
      ],
      "source": [
        "numericCast = str(2.4)\n",
        "print(numericCast)\n",
        "print(type(numericCast))"
      ]
    },
    {
      "cell_type": "code",
      "execution_count": null,
      "metadata": {
        "colab": {
          "base_uri": "https://localhost:8080/"
        },
        "id": "jxj-g7NungQ3",
        "outputId": "8ebc811d-eb43-470f-9af8-3f53cabb1801"
      },
      "outputs": [
        {
          "name": "stdout",
          "output_type": "stream",
          "text": [
            "2.0\n"
          ]
        }
      ],
      "source": [
        "numeroTexto = \"2\"\n",
        "numero = float(numeroTexto)\n",
        "print(numero)\n"
      ]
    },
    {
      "attachments": {},
      "cell_type": "markdown",
      "metadata": {
        "id": "xfVIcR_KT1KB"
      },
      "source": [
        "# 3. Operadores"
      ]
    },
    {
      "attachments": {},
      "cell_type": "markdown",
      "metadata": {
        "id": "QkgqfKHGUtfw"
      },
      "source": [
        "### 3.1 Asignación\n",
        "\n",
        "| Operador | Nombre| Ejemplo |\n",
        "|---|---|---|\n",
        "| = | Asignacion | x = y |\n"
      ]
    },
    {
      "cell_type": "code",
      "execution_count": null,
      "metadata": {
        "colab": {
          "base_uri": "https://localhost:8080/"
        },
        "id": "arDc6h5yT3PE",
        "outputId": "5e7fd8b4-317d-4280-b06b-10b5820e067f"
      },
      "outputs": [
        {
          "name": "stdout",
          "output_type": "stream",
          "text": [
            "50\n"
          ]
        }
      ],
      "source": [
        "z = 40\n",
        "z = z + 10\n",
        "print(z)"
      ]
    },
    {
      "cell_type": "code",
      "execution_count": null,
      "metadata": {
        "colab": {
          "base_uri": "https://localhost:8080/"
        },
        "id": "VasrmCDEHPlZ",
        "outputId": "00c0ed11-e91e-47af-8b52-c20a745c4a8c"
      },
      "outputs": [
        {
          "name": "stdout",
          "output_type": "stream",
          "text": [
            "1\n",
            "<class 'int'>\n",
            "True\n",
            "<class 'bool'>\n",
            "[1, 'Text', None, False]\n",
            "<class 'list'>\n"
          ]
        }
      ],
      "source": [
        "variable = 1\n",
        "print(variable)\n",
        "print(type(variable))\n",
        "\n",
        "variable = True\n",
        "print(variable)\n",
        "print(type(variable))\n",
        "\n",
        "variable = [1,\"Text\",None, False]\n",
        "print(variable)\n",
        "print(type(variable))"
      ]
    },
    {
      "cell_type": "code",
      "execution_count": null,
      "metadata": {
        "colab": {
          "base_uri": "https://localhost:8080/"
        },
        "id": "nY0K3tsUHOne",
        "outputId": "9df14387-02ed-4dc8-bf57-a0cd978f15ea"
      },
      "outputs": [
        {
          "name": "stdout",
          "output_type": "stream",
          "text": [
            "1\n",
            "<class 'int'>\n",
            "Text\n",
            "<class 'str'>\n",
            "None\n",
            "<class 'NoneType'>\n"
          ]
        }
      ],
      "source": [
        "variable1, variable2, variable3 = 1, \"Text\", None\n",
        "\n",
        "print(variable1)\n",
        "print(type(variable1))\n",
        "\n",
        "print(variable2)\n",
        "print(type(variable2))\n",
        "\n",
        "print(variable3)\n",
        "print(type(variable3))"
      ]
    },
    {
      "cell_type": "code",
      "execution_count": null,
      "metadata": {
        "colab": {
          "base_uri": "https://localhost:8080/"
        },
        "id": "7Tm3jxzNHYjz",
        "outputId": "ac9d2ef9-7a0f-46e2-923b-e0398d70beac"
      },
      "outputs": [
        {
          "name": "stdout",
          "output_type": "stream",
          "text": [
            "1\n",
            "<class 'int'>\n",
            "1\n",
            "<class 'int'>\n",
            "1\n",
            "<class 'int'>\n"
          ]
        }
      ],
      "source": [
        "# variable1 = 1\n",
        "# variable2 = 1\n",
        "# variable3 = 1\n",
        "\n",
        "variable1=variable2=variable3= 1\n",
        "\n",
        "print(variable1)\n",
        "print(type(variable1))\n",
        "\n",
        "print(variable2)\n",
        "print(type(variable2))\n",
        "\n",
        "print(variable3)\n",
        "print(type(variable3))"
      ]
    },
    {
      "attachments": {},
      "cell_type": "markdown",
      "metadata": {
        "id": "C4dH-bqtUwg8"
      },
      "source": [
        "### 3.2 Aritméticos\n",
        "\n",
        "| Operador | Nombre| Ejemplo |\n",
        "|---|---|---|\n",
        "| + | Adición | x + y |\n",
        "| - | Substracción | x - y |\n",
        "| * | Multiplicación | x * y |\n",
        "| / | División | x / y |\n",
        "| % | Modulo | x % y |\n",
        "| ** | Exponencial | x ** y |\n",
        "| // | División piso | x // y |\n"
      ]
    },
    {
      "cell_type": "code",
      "execution_count": null,
      "metadata": {
        "colab": {
          "base_uri": "https://localhost:8080/"
        },
        "id": "YLefc9HKXCmf",
        "outputId": "ac621398-1f8f-4de8-a82f-261eef17f9be"
      },
      "outputs": [
        {
          "name": "stdout",
          "output_type": "stream",
          "text": [
            "Valor de x =  26\n",
            "Valor de y =  5\n",
            "x+y =  31\n",
            "x-y = 21\n",
            "x*y = 130\n",
            "x/y = 5.2\n",
            "x%y = 1\n",
            "x**z = 676\n",
            "x//y = 5\n"
          ]
        }
      ],
      "source": [
        "x = 26\n",
        "y = 5\n",
        "z = 2\n",
        "print(\"Valor de x = \",x)\n",
        "print(\"Valor de y = \",y)\n",
        "print(\"x+y = \",x+y)\n",
        "print(\"x-y =\",x-y)\n",
        "print(\"x*y =\",x*y)\n",
        "print(\"x/y =\",x/y)\n",
        "print(\"x%y =\",x%y)\n",
        "print(\"x**z =\",x**z)\n",
        "print(\"x//y =\",x//y)"
      ]
    },
    {
      "attachments": {},
      "cell_type": "markdown",
      "metadata": {
        "id": "fWP8okz1MeRd"
      },
      "source": [
        "####Concatenar String"
      ]
    },
    {
      "cell_type": "code",
      "execution_count": null,
      "metadata": {
        "colab": {
          "base_uri": "https://localhost:8080/"
        },
        "id": "0M_BXNfOGnrp",
        "outputId": "5d6428f5-7be7-4ce4-84fb-1a03bdebfca3"
      },
      "outputs": [
        {
          "name": "stdout",
          "output_type": "stream",
          "text": [
            "Jorge Villavicencio\n",
            "<class 'str'>\n"
          ]
        }
      ],
      "source": [
        "stringOperation = \"Jorge \" + \"Villavicencio\"\n",
        "print(stringOperation)\n",
        "print(type(stringOperation))"
      ]
    },
    {
      "attachments": {},
      "cell_type": "markdown",
      "metadata": {
        "id": "v_a4LIZ0Mlnk"
      },
      "source": [
        "####Multiplicar String"
      ]
    },
    {
      "cell_type": "code",
      "execution_count": null,
      "metadata": {
        "colab": {
          "base_uri": "https://localhost:8080/"
        },
        "id": "dXV4ab7MGpVH",
        "outputId": "5af8fcfd-b324-47c8-8ffb-4ee7064e102f"
      },
      "outputs": [
        {
          "name": "stdout",
          "output_type": "stream",
          "text": [
            "No debo ensuciar las paredes No debo ensuciar las paredes No debo ensuciar las paredes No debo ensuciar las paredes No debo ensuciar las paredes No debo ensuciar las paredes No debo ensuciar las paredes No debo ensuciar las paredes No debo ensuciar las paredes No debo ensuciar las paredes \n",
            "<class 'str'>\n"
          ]
        }
      ],
      "source": [
        "stringOperation = \"No debo ensuciar las paredes \" * 10\n",
        "print(stringOperation)\n",
        "print(type(stringOperation))"
      ]
    },
    {
      "attachments": {},
      "cell_type": "markdown",
      "metadata": {
        "id": "3i3FMEi3Uum3"
      },
      "source": [
        "### 3.3 Relación\n",
        "\n",
        "| Operador | Nombre| Ejemplo |\n",
        "|---|---|---|\n",
        "| == | Igualdad | x == y |\n",
        "| != | Diferencia | x != y |\n",
        "| < | Mayor | x < y |\n",
        "| > | Menor | x > y |\n",
        "| <= | Mayor igual | x <= y |\n",
        "| >= | Menor igual | x >= y |\n"
      ]
    },
    {
      "cell_type": "code",
      "execution_count": null,
      "metadata": {
        "colab": {
          "base_uri": "https://localhost:8080/"
        },
        "id": "6aZPZdzZMrc9",
        "outputId": "cbc31b80-8828-4edb-8b16-dec0a875cb2e"
      },
      "outputs": [
        {
          "name": "stdout",
          "output_type": "stream",
          "text": [
            "x == y False\n",
            "x != y True\n",
            "x < y False\n",
            "x >y True\n",
            "x <= y False\n",
            "x=>z True\n"
          ]
        }
      ],
      "source": [
        "x = 35\n",
        "y = 30\n",
        "\n",
        "print(\"x == y\", x == y)\n",
        "print(\"x != y\", x != y)\n",
        "print(\"x < y\", x < y)\n",
        "print(\"x >y\", x > y)\n",
        "print(\"x <= y\", x <= y)\n",
        "print(\"x=>z\", x >= y)\n"
      ]
    },
    {
      "cell_type": "code",
      "execution_count": null,
      "metadata": {
        "colab": {
          "base_uri": "https://localhost:8080/"
        },
        "id": "cB_zXViFXzs-",
        "outputId": "c038f768-d807-47a2-edf8-91a9670b511b"
      },
      "outputs": [
        {
          "name": "stdout",
          "output_type": "stream",
          "text": [
            "x == y False\n",
            "x != y True\n",
            "x < y True\n",
            "x >y False\n",
            "x <= y True\n",
            "x=>z False\n"
          ]
        }
      ],
      "source": [
        "x = \"Juan\"\n",
        "y = \"Juan\"\n",
        "\n",
        "print(\"x == y\", x == y)\n",
        "print(\"x != y\",x != y)\n",
        "print(\"x < y\",x < y)\n",
        "print(\"x >y\",x > y)\n",
        "print(\"x <= y\",x <= y)\n",
        "print(\"x=>z\",x >= y)\n"
      ]
    },
    {
      "cell_type": "code",
      "execution_count": null,
      "metadata": {
        "colab": {
          "base_uri": "https://localhost:8080/"
        },
        "id": "4GR1-1EkHiMV",
        "outputId": "bdfbb8d8-a1dd-4679-e10c-bd8803c3a51e"
      },
      "outputs": [
        {
          "name": "stdout",
          "output_type": "stream",
          "text": [
            "True\n",
            "<class 'bool'>\n"
          ]
        }
      ],
      "source": [
        "operation = \"2\" > \"1\"\n",
        "print(operation)\n",
        "print(type(operation))"
      ]
    },
    {
      "cell_type": "code",
      "execution_count": null,
      "metadata": {
        "colab": {
          "base_uri": "https://localhost:8080/"
        },
        "id": "NzPanRdEHjkZ",
        "outputId": "84074681-f4c3-4a53-bb8d-b89b911e1429"
      },
      "outputs": [
        {
          "name": "stdout",
          "output_type": "stream",
          "text": [
            "False\n",
            "<class 'bool'>\n"
          ]
        }
      ],
      "source": [
        "operation = \"c\" > \"z\"\n",
        "print(operation)\n",
        "print(type(operation))"
      ]
    },
    {
      "attachments": {},
      "cell_type": "markdown",
      "metadata": {
        "id": "QnICXJs8NGrZ"
      },
      "source": [
        "Ejemplo 01: Variables + Tipos de datos + Operadores"
      ]
    },
    {
      "cell_type": "code",
      "execution_count": null,
      "metadata": {
        "colab": {
          "base_uri": "https://localhost:8080/"
        },
        "id": "pMZlFcftwuNw",
        "outputId": "561e25c6-330d-4c4a-bf15-4f30fbc6eeff"
      },
      "outputs": [
        {
          "name": "stdout",
          "output_type": "stream",
          "text": [
            "Ingrese el peso en grs: 8200\n",
            "Ingrese la altura en cms: 170\n",
            "El índice de masa corporal (BMI) es igual a: 2.837\n",
            "El índice de masa corporal (BMI) es igual a: 2.837370242214533\n"
          ]
        }
      ],
      "source": [
        "peso = float(input(\"Ingrese el peso en grs: \"))\n",
        "altura = float(input(\"Ingrese la altura en cms: \"))\n",
        "\n",
        "pesoKg = peso/1000\n",
        "alturaMt = altura/100\n",
        "\n",
        "bmi = pesoKg/(alturaMt**2)\n",
        "print(\"El índice de masa corporal (BMI) es igual a:\", round(bmi,3))\n",
        "print(\"El índice de masa corporal (BMI) es igual a:\", bmi)"
      ]
    },
    {
      "attachments": {},
      "cell_type": "markdown",
      "metadata": {
        "id": "eFIirof_dKqm"
      },
      "source": [
        "# 4. Estructuras de control"
      ]
    },
    {
      "attachments": {},
      "cell_type": "markdown",
      "metadata": {
        "id": "xBkf1twpdVYT"
      },
      "source": [
        "## 4.1 Condicionales"
      ]
    },
    {
      "attachments": {},
      "cell_type": "markdown",
      "metadata": {
        "id": "cb82ab9c-d142-4d43-9d82-3b798ac9516d",
        "tags": []
      },
      "source": [
        "### 4.1.1.- Condicional simple - Simple Conditional"
      ]
    },
    {
      "cell_type": "code",
      "execution_count": null,
      "metadata": {
        "colab": {
          "base_uri": "https://localhost:8080/"
        },
        "id": "b1382bd0-ee4d-4c17-853e-a0c8c790df0c",
        "outputId": "095d64d8-4ff1-422c-cf37-669f34b94505"
      },
      "outputs": [
        {
          "name": "stdout",
          "output_type": "stream",
          "text": [
            "Ingresar numero: 1\n",
            "El valor es igual a  1\n"
          ]
        }
      ],
      "source": [
        "numero = int(input(\"Ingresar numero: \"))\n",
        "if numero == 1:\n",
        "  print(\"El valor es igual a \",numero)\n",
        "\n",
        "print(\"Estoy fuera del IF\")"
      ]
    },
    {
      "attachments": {},
      "cell_type": "markdown",
      "metadata": {
        "id": "91464e55-b1b9-4dd5-b34a-4dd16d354956",
        "tags": []
      },
      "source": [
        "### 4.1.2.- Condicional compleja - Complex Conditional"
      ]
    },
    {
      "cell_type": "code",
      "execution_count": null,
      "metadata": {
        "colab": {
          "base_uri": "https://localhost:8080/"
        },
        "id": "c950b738-7232-49c6-9cb0-375f2484149e",
        "outputId": "c4aa9257-8f0b-4b9b-e51f-d13b81030f12"
      },
      "outputs": [
        {
          "name": "stdout",
          "output_type": "stream",
          "text": [
            "Ingresar numero: 1\n",
            "El valor es igual a  1\n"
          ]
        }
      ],
      "source": [
        "numero = int(input(\"Ingresar numero: \"))\n",
        "if numero == 1:\n",
        "    print(\"El valor es igual a \",numero)\n",
        "else:\n",
        "    print(\"El valor NO es igual a \",numero)"
      ]
    },
    {
      "attachments": {},
      "cell_type": "markdown",
      "metadata": {
        "id": "dd46aae6-0503-4f21-b83d-5d1ec1205eb4",
        "tags": []
      },
      "source": [
        "### 4.1.3.- Condicional anidada - Nested Conditional"
      ]
    },
    {
      "cell_type": "code",
      "execution_count": null,
      "metadata": {
        "colab": {
          "base_uri": "https://localhost:8080/"
        },
        "id": "a4f684b9-709c-482d-95d2-0e4263e09e9b",
        "outputId": "11c2c8d5-12e2-457d-b7a0-e6ffdf644879"
      },
      "outputs": [
        {
          "name": "stdout",
          "output_type": "stream",
          "text": [
            "Ingresar edad: -30\n",
            "Es un Niño\n"
          ]
        }
      ],
      "source": [
        "value = int(input(\"Ingresar edad: \"))\n",
        "if value < 15:   # value puede ser de ... 0 ,1 , 2  ... 15\n",
        "    print(\"Es un Niño\")\n",
        "elif value < 35:  # value puede ser de 15, 16 , 17 ,18 , 19 ...   33, 34\n",
        "    print(\"Es un Adulto\")\n",
        "else:\n",
        "    print(\"Es Mayor\") # value puede ser de 35 , 36 , 37 , 38 ... 50 ..."
      ]
    },
    {
      "cell_type": "code",
      "execution_count": null,
      "metadata": {
        "colab": {
          "base_uri": "https://localhost:8080/"
        },
        "id": "rMLqe2yz4qOZ",
        "outputId": "3be9cbd9-48d4-4d73-b905-cac95ff44ccd"
      },
      "outputs": [
        {
          "name": "stdout",
          "output_type": "stream",
          "text": [
            "Ingrese numero de mes2\n",
            "Febrero\n"
          ]
        }
      ],
      "source": [
        "numeroMes = int(input(\"Ingrese numero de mes\"))\n",
        "\n",
        "if numeroMes == 1:\n",
        "  print(\"Enero\")\n",
        "elif numeroMes == 2:\n",
        "  print(\"Febrero\")\n",
        "elif numeroMes == 3:\n",
        "  print(\"Marzo\")  \n",
        "elif numeroMes == 4:\n",
        "  print(\"Abril\")\n",
        "elif numeroMes == 5:\n",
        "  print(\"Mayo\")    \n",
        "else:\n",
        "  print(\"Mes no contemplado, rango de meses de 1 a 12\")"
      ]
    },
    {
      "attachments": {},
      "cell_type": "markdown",
      "metadata": {
        "id": "795d1774-b3f3-4486-87d8-146e077d36f9",
        "tags": []
      },
      "source": [
        "### 4.1.4.- Condicional plana - Plain Conditional\n",
        "\n",
        "Es similar a la condicional compleja, en el lado izquierda es verdadero y en el lado izquiero si es falso."
      ]
    },
    {
      "cell_type": "code",
      "execution_count": null,
      "metadata": {
        "colab": {
          "base_uri": "https://localhost:8080/"
        },
        "id": "e7efdf1d-7bd6-4928-8912-4431e1a46731",
        "outputId": "34dc977b-b24f-48d0-fe87-9fa1be6f0dd1"
      },
      "outputs": [
        {
          "name": "stdout",
          "output_type": "stream",
          "text": [
            "El valor NO es igual a 1\n"
          ]
        }
      ],
      "source": [
        "value = 2\n",
        "print(\"El valor es igual a 1\" if value == 1 else \"El valor NO es igual a 1\")"
      ]
    },
    {
      "cell_type": "code",
      "execution_count": null,
      "metadata": {
        "colab": {
          "base_uri": "https://localhost:8080/"
        },
        "id": "S1EbZnuKqLIB",
        "outputId": "4927416e-fd33-4e76-bcce-11d155afeab0"
      },
      "outputs": [
        {
          "name": "stdout",
          "output_type": "stream",
          "text": [
            "Numero de botellas de hasta 1 litro: 14\n",
            "Numero de botellas de mas de 1 litro: 7\n",
            "El monto a favor es 43.75\n"
          ]
        }
      ],
      "source": [
        "litro = int(input(\"Numero de botellas de hasta 1 litro: \"))\n",
        "litroMas = int(input(\"Numero de botellas de mas de 1 litro: \"))\n",
        "\n",
        "dineroTotalLitro = 0\n",
        "dineroTotalMas = 0\n",
        "\n",
        "if litro > 0:\n",
        "  dineroTotalLitro = litro*1.25\n",
        "\n",
        "if litroMas > 0:\n",
        "  dineroTotalMas = litroMas*3.75\n",
        "\n",
        "total = dineroTotalLitro + dineroTotalMas\n",
        "print(\"El monto a favor es\",total)"
      ]
    },
    {
      "attachments": {},
      "cell_type": "markdown",
      "metadata": {
        "id": "qhizsMa5s6qW"
      },
      "source": [
        "Solicitar al usuario que ingrese su nombre y nota de un examen. El programa debe indicar si el alumno aprobo o no el examen, la nota para aprobar tiene que ser mayor o igual a 10.5. Si el alumno aprobo se debe mostrar el mensaje \"APROBADO\" sino debe mosytrarse el mensaje \"DESAPROBADO\"\n",
        " En caso el alumno no haya dado el examen, debe ingresar la palabra \"NO\" y si ingresa la palabra NO, el programa debe mostrar \"No existe recuperacion\"\n"
      ]
    },
    {
      "cell_type": "code",
      "execution_count": null,
      "metadata": {
        "colab": {
          "base_uri": "https://localhost:8080/"
        },
        "id": "Uw2blK54uU7-",
        "outputId": "2ff977d7-8b35-4817-dcb9-0d3325364acb"
      },
      "outputs": [
        {
          "name": "stdout",
          "output_type": "stream",
          "text": [
            "Ingresar nombre: Jorge\n",
            "Ingresar nota: -1\n",
            "DESAPROBADO\n"
          ]
        }
      ],
      "source": [
        "nombre = input(\"Ingresar nombre: \")\n",
        "nota = float(input(\"Ingresar nota: \"))\n",
        "\n",
        "if nota < 10.5:\n",
        "  print(\"DESAPROBADO\")\n",
        "  print(\"Indentacion\")\n",
        "  print(\"Hola\")\n",
        "elif nota == -1:\n",
        "  print(\"No existe recuperacion\")\n",
        "else:\n",
        "  print(\"APROBADO\")"
      ]
    },
    {
      "attachments": {},
      "cell_type": "markdown",
      "metadata": {
        "id": "_k5uBeeivYfS"
      },
      "source": [
        "Conjuncion"
      ]
    },
    {
      "cell_type": "code",
      "execution_count": null,
      "metadata": {
        "colab": {
          "base_uri": "https://localhost:8080/"
        },
        "id": "ZtEYeY-EvebW",
        "outputId": "e7bf6b12-c92a-4f84-e488-c3c4350bdba8"
      },
      "outputs": [
        {
          "name": "stdout",
          "output_type": "stream",
          "text": [
            "Ingresar nota: 10\n"
          ]
        }
      ],
      "source": [
        "nota = float(input(\"Ingresar nota: \"))\n",
        "if nota >= 10.5 and nota<=20 :\n",
        "  print(\"APROBADO\")"
      ]
    },
    {
      "attachments": {},
      "cell_type": "markdown",
      "metadata": {
        "id": "Czcz7Q49vfNf"
      },
      "source": [
        "Disyuncion"
      ]
    },
    {
      "cell_type": "code",
      "execution_count": null,
      "metadata": {
        "colab": {
          "base_uri": "https://localhost:8080/"
        },
        "id": "1wzKKVhovge9",
        "outputId": "2213522b-ec2e-462d-c162-09b9e3d8f9f2"
      },
      "outputs": [
        {
          "name": "stdout",
          "output_type": "stream",
          "text": [
            "Ingresar nota: -2\n",
            "No existe recuperacion\n"
          ]
        }
      ],
      "source": [
        "nota = float(input(\"Ingresar nota: \"))\n",
        "if nota == -1 or nota == -2:   # Falso or Verdadero = Verdadero.\n",
        "  print(\"No existe recuperacion\")"
      ]
    },
    {
      "attachments": {},
      "cell_type": "markdown",
      "metadata": {
        "id": "jJhQXgvze6o7"
      },
      "source": [
        "#Variable"
      ]
    },
    {
      "cell_type": "code",
      "execution_count": null,
      "metadata": {
        "colab": {
          "base_uri": "https://localhost:8080/"
        },
        "id": "H54nQTj8e8Kn",
        "outputId": "d162a82d-c9d1-4a67-a806-38e0d46ffdaf"
      },
      "outputs": [
        {
          "name": "stdout",
          "output_type": "stream",
          "text": [
            "25\n"
          ]
        }
      ],
      "source": [
        "edad = 25\n",
        "print(edad)"
      ]
    },
    {
      "cell_type": "code",
      "execution_count": null,
      "metadata": {
        "colab": {
          "base_uri": "https://localhost:8080/"
        },
        "id": "D0TVtomMgA14",
        "outputId": "4fb26090-6816-4629-e09d-82186b3952cf"
      },
      "outputs": [
        {
          "name": "stdout",
          "output_type": "stream",
          "text": [
            "35\n"
          ]
        }
      ],
      "source": [
        "edad = edad + 10\n",
        "print(edad)"
      ]
    },
    {
      "cell_type": "code",
      "execution_count": null,
      "metadata": {
        "colab": {
          "base_uri": "https://localhost:8080/"
        },
        "id": "4rdZUkMMgLKp",
        "outputId": "8a95cfe2-a501-4cca-c4ee-43d8f5aafc42"
      },
      "outputs": [
        {
          "name": "stdout",
          "output_type": "stream",
          "text": [
            "25\n"
          ]
        }
      ],
      "source": [
        "edad = 25\n",
        "print(edad)"
      ]
    },
    {
      "cell_type": "code",
      "execution_count": null,
      "metadata": {
        "colab": {
          "base_uri": "https://localhost:8080/"
        },
        "id": "JYbCfxaPgYmm",
        "outputId": "ea0169f1-1fb4-4cee-f5d4-6920d1972918"
      },
      "outputs": [
        {
          "name": "stdout",
          "output_type": "stream",
          "text": [
            "Edad 25\n"
          ]
        }
      ],
      "source": [
        "edad = \"Edad 25\"\n",
        "print(edad)"
      ]
    },
    {
      "cell_type": "code",
      "execution_count": null,
      "metadata": {
        "colab": {
          "base_uri": "https://localhost:8080/"
        },
        "id": "1ALSoftyfaAY",
        "outputId": "60bceb1b-035d-45a7-c13c-90a9018c953b"
      },
      "outputs": [
        {
          "name": "stdout",
          "output_type": "stream",
          "text": [
            "Edad adulto sin espacio\n",
            "Edad adulto\n"
          ]
        }
      ],
      "source": [
        "edadAdulto = \"Edad adulto sin espacio\"\n",
        "edad_Adulto = \"Edad adulto\"\n",
        "print(edadAdulto)\n",
        "print(edad_Adulto)"
      ]
    }
  ],
  "metadata": {
    "colab": {
      "provenance": []
    },
    "kernelspec": {
      "display_name": "Python 3",
      "name": "python3"
    },
    "language_info": {
      "codemirror_mode": {
        "name": "ipython",
        "version": 3
      },
      "file_extension": ".py",
      "mimetype": "text/x-python",
      "name": "python",
      "nbconvert_exporter": "python",
      "pygments_lexer": "ipython3",
      "version": "3.11.0"
    }
  },
  "nbformat": 4,
  "nbformat_minor": 0
}
